{
 "cells": [
  {
   "cell_type": "code",
   "execution_count": null,
   "id": "374c21ce-0605-4476-b665-91d0d973c0d1",
   "metadata": {},
   "outputs": [],
   "source": [
    "import importlib.util\n",
    "import sys\n",
    "name = \"metadata\"\n",
    "spec = importlib.util.spec_from_file_location(name, \"metadata/variables/__init__.py\")\n",
    "module = importlib.util.module_from_spec(spec)\n",
    "sys.modules[name] = module\n",
    "spec.loader.exec_module(module)\n",
    "metadata = module\n",
    "print(metadata.project)"
   ]
  },
  {
   "cell_type": "code",
   "execution_count": null,
   "id": "efa397e4-9059-47cc-bd03-194b033ed3d2",
   "metadata": {},
   "outputs": [],
   "source": [
    "metadata"
   ]
  },
  {
   "cell_type": "code",
   "execution_count": null,
   "id": "dc8526a2-04c2-4999-9bfe-10850fe93107",
   "metadata": {},
   "outputs": [],
   "source": [
    "metadata.__dir__()"
   ]
  },
  {
   "cell_type": "code",
   "execution_count": null,
   "id": "acc84e8c-2207-498b-998f-8b32ab2d4b8b",
   "metadata": {},
   "outputs": [],
   "source": [
    "dic = dict()\n",
    "for name in metadata.__dir__():\n",
    "    if not name.startswith(\"_\"):\n",
    "        dic[name] = dict()\n",
    "        module = getattr(metadata, name)\n",
    "        for var_name in module.__dir__():\n",
    "            if not var_name.startswith(\"_\") and var_name.isupper():\n",
    "                dic[name][var_name] = getattr(module, var_name)\n",
    "import json\n",
    "json.dumps(dic)"
   ]
  },
  {
   "cell_type": "code",
   "execution_count": null,
   "id": "73f37201-7134-4b6e-88ec-38a15393f495",
   "metadata": {},
   "outputs": [],
   "source": [
    "\"AB_FA\".isupper()"
   ]
  },
  {
   "cell_type": "code",
   "execution_count": null,
   "id": "3a2630f8-0846-4f13-b994-758863702b54",
   "metadata": {},
   "outputs": [],
   "source": [
    "getattr(metadata, \"project\")"
   ]
  },
  {
   "cell_type": "code",
   "execution_count": null,
   "id": "a65426fa-1610-493c-995a-af264c441b95",
   "metadata": {},
   "outputs": [],
   "source": [
    "import json"
   ]
  },
  {
   "cell_type": "code",
   "execution_count": null,
   "id": "f5bad2cb-2b7b-4e37-87ac-9e0c7ec7c462",
   "metadata": {},
   "outputs": [],
   "source": [
    "__file__"
   ]
  },
  {
   "cell_type": "code",
   "execution_count": null,
   "id": "58dd7a78-53e2-49fa-a665-9d87ef086ebf",
   "metadata": {},
   "outputs": [],
   "source": [
    "from pathlib import Path"
   ]
  },
  {
   "cell_type": "code",
   "execution_count": null,
   "id": "f044508c-435b-4b9c-8ab9-72bbba0158bb",
   "metadata": {},
   "outputs": [],
   "source": [
    "Path.cwd()"
   ]
  },
  {
   "cell_type": "code",
   "execution_count": null,
   "id": "af5e06f0-e034-482b-a4f4-876f82a7b2ca",
   "metadata": {},
   "outputs": [],
   "source": [
    "import yaml"
   ]
  },
  {
   "cell_type": "code",
   "execution_count": 1,
   "id": "decbd589-956b-43b1-896c-b48f7ba3f7ab",
   "metadata": {},
   "outputs": [
    {
     "name": "stdout",
     "output_type": "stream",
     "text": [
      "\n",
      "name: \"PyPackIT\"\n",
      "\n",
      "tagline: \"Effortlessly Create, Document, Test, Deploy, and Maintain Python Projects\"\n",
      "\n",
      "description: >-\n",
      "  PyPackIT is an open-source software for creating other open-source software,\n",
      "  specifically Python packages. It streamlines all the tedious and time-consuming\n",
      "  \"administrative\" jobs of the software development process, so you can only focus\n",
      "  on what truly matters: implementing your ideas!\n",
      "  \n",
      "  With a single command, PyPackIT creates a professional and robust infrastructure.\n",
      "# Test\n",
      "keywords:\n",
      "  - python\n",
      "  - packaging\n",
      "  - template\n",
      "  - documentation\n",
      "  - testing\n",
      "  - deployment\n",
      "  - maintenance\n",
      "  - automation\n",
      "  - development\n",
      "  - infrastructure\n",
      "  - streamline\n",
      "\n",
      "license: \"MIT\"\n",
      "\n",
      "start_year: 2021\n",
      "\n",
      "owner: \"aariam\"\n",
      "\n",
      "authors:\n",
      "  - \"aariam\"\n",
      "\n",
      "github:\n",
      "  username: \"aariam\"\n",
      "  repository: \"pypackit\"\n",
      "\n",
      "\n"
     ]
    }
   ],
   "source": [
    "with open(\"./dev/metadata/project.yaml\") as f:\n",
    "    ff = f.read()\n",
    "print(ff)"
   ]
  },
  {
   "cell_type": "code",
   "execution_count": null,
   "id": "aeba240e-102a-4db3-b70c-8684e9ec6919",
   "metadata": {},
   "outputs": [],
   "source": [
    "print(yaml.dump(yaml.load(ff, Loader=yaml.CFullLoader)))"
   ]
  },
  {
   "cell_type": "code",
   "execution_count": 2,
   "id": "8523614d-67db-4f1f-b391-7c82f63b5efe",
   "metadata": {},
   "outputs": [],
   "source": [
    "from ruamel.yaml import YAML"
   ]
  },
  {
   "cell_type": "code",
   "execution_count": 3,
   "id": "01bb32a9-9504-43a4-a516-da4fb48514a7",
   "metadata": {
    "editable": true,
    "slideshow": {
     "slide_type": ""
    },
    "tags": []
   },
   "outputs": [],
   "source": [
    "yaml=YAML()   # default, if not specfied, is 'rt' (round-trip)\n",
    "yaml.default_flow_style = True\n",
    "x=yaml.load(ff)"
   ]
  },
  {
   "cell_type": "code",
   "execution_count": 4,
   "id": "02503db8-5cb3-404d-8218-6abcb835544d",
   "metadata": {},
   "outputs": [
    {
     "data": {
      "text/plain": [
       "{'name': 'PyPackIT', 'tagline': 'Effortlessly Create, Document, Test, Deploy, and Maintain Python Projects', 'description': 'PyPackIT is an open-source software for creating other open-source software, specifically Python packages. It streamlines all the tedious and time-consuming \"administrative\" jobs of the software development process, so you can only focus on what truly matters: implementing your ideas!\\nWith a single command, PyPackIT creates a professional and robust infrastructure.', 'keywords': ['python', 'packaging', 'template', 'documentation', 'testing', 'deployment', 'maintenance', 'automation', 'development', 'infrastructure', 'streamline'], 'license': 'MIT', 'start_year': 2021, 'owner': 'aariam', 'authors': ['aariam'], 'github': {'username': 'aariam', 'repository': 'pypackit'}}"
      ]
     },
     "execution_count": 4,
     "metadata": {},
     "output_type": "execute_result"
    }
   ],
   "source": [
    "x"
   ]
  },
  {
   "cell_type": "code",
   "execution_count": 13,
   "id": "5078db1a-f48f-4d48-b416-58301345ceb2",
   "metadata": {},
   "outputs": [
    {
     "data": {
      "text/plain": [
       "{'name': 'PyPackIT',\n",
       " 'tagline': 'Effortlessly Create, Document, Test, Deploy, and Maintain Python Projects',\n",
       " 'description': 'PyPackIT is an open-source software for creating other open-source software, specifically Python packages. It streamlines all the tedious and time-consuming \"administrative\" jobs of the software development process, so you can only focus on what truly matters: implementing your ideas!\\nWith a single command, PyPackIT creates a professional and robust infrastructure.',\n",
       " 'keywords': ['python', 'packaging', 'template', 'documentation', 'testing', 'deployment', 'maintenance', 'automation', 'development', 'infrastructure', 'streamline'],\n",
       " 'license': 'MIT',\n",
       " 'start_year': 2021,\n",
       " 'owner': 'aariam',\n",
       " 'authors': ['aariam'],\n",
       " 'github': {'username': 'aariam', 'repository': 'pypackit'}}"
      ]
     },
     "execution_count": 13,
     "metadata": {},
     "output_type": "execute_result"
    }
   ],
   "source": [
    "dict(x)"
   ]
  },
  {
   "cell_type": "code",
   "execution_count": 5,
   "id": "963d39fe-9749-4f7c-a2c1-dcb491557d11",
   "metadata": {},
   "outputs": [
    {
     "name": "stdout",
     "output_type": "stream",
     "text": [
      "name: PyPackIT\n",
      "\n",
      "tagline: Effortlessly Create, Document, Test, Deploy, and Maintain Python Projects\n",
      "\n",
      "description: >-\n",
      "  PyPackIT is an open-source software for creating other open-source software,\n",
      "  specifically Python packages. It streamlines all the tedious and time-consuming\n",
      "  \"administrative\" jobs of the software development process, so you can only focus\n",
      "  on what truly matters: implementing your ideas!\n",
      "\n",
      "  With a single command, PyPackIT creates a professional and robust infrastructure.\n",
      "# Test\n",
      "keywords:\n",
      "- python\n",
      "- packaging\n",
      "- template\n",
      "- documentation\n",
      "- testing\n",
      "- deployment\n",
      "- maintenance\n",
      "- automation\n",
      "- development\n",
      "- infrastructure\n",
      "- streamline\n",
      "\n",
      "license: MIT\n",
      "\n",
      "start_year: 2021\n",
      "\n",
      "owner: aariam\n",
      "\n",
      "authors:\n",
      "- aariam\n",
      "\n",
      "github:\n",
      "  username: aariam\n",
      "  repository: pypackit\n",
      "\n"
     ]
    }
   ],
   "source": [
    "import sys\n",
    "yaml.dump(x, sys.stdout)"
   ]
  },
  {
   "cell_type": "code",
   "execution_count": null,
   "id": "9e5d9c7e-f018-4ae3-bcb5-c65f40330631",
   "metadata": {},
   "outputs": [],
   "source": [
    "from github import Github\n",
    "\n",
    "# Authentication is defined via github.Auth\n",
    "from github import Auth\n",
    "\n",
    "# using an access token\n",
    "auth = Auth.Token(\"access_token\")\n",
    "\n",
    "# Public Web Github\n",
    "g = Github()\n"
   ]
  },
  {
   "cell_type": "code",
   "execution_count": null,
   "id": "0fcabcb3-467b-4988-a181-14c41426bfd3",
   "metadata": {},
   "outputs": [],
   "source": [
    "u=g.get_user(\"ArminAriam\").avatar_url"
   ]
  },
  {
   "cell_type": "code",
   "execution_count": null,
   "id": "16acef5a-5993-4c6b-9664-852a00bc67c7",
   "metadata": {},
   "outputs": [],
   "source": [
    "u.avatar_url"
   ]
  },
  {
   "cell_type": "code",
   "execution_count": null,
   "id": "1f66eda7-96fd-44f5-b80b-15b88605cad7",
   "metadata": {},
   "outputs": [],
   "source": [
    "from IPython.display import HTML, display\n",
    "display(HTML(f\"<img src={g.get_user('mamdasn').avatar_url} width='150px'>\"))\n"
   ]
  },
  {
   "cell_type": "code",
   "execution_count": null,
   "id": "0e2d2a53-a7bb-42af-87ad-471f3219d10c",
   "metadata": {},
   "outputs": [],
   "source": [
    "g.get_user(\"ArminAriam\")."
   ]
  },
  {
   "cell_type": "code",
   "execution_count": 18,
   "id": "5c705f7d-abec-4f19-ba99-3e573ae0e288",
   "metadata": {},
   "outputs": [],
   "source": [
    "import requests"
   ]
  },
  {
   "cell_type": "code",
   "execution_count": 20,
   "id": "b3910309-5b44-4a1d-93cc-06b5d6632c17",
   "metadata": {},
   "outputs": [
    {
     "data": {
      "text/plain": [
       "[{'provider': 'linkedin', 'url': 'https://linkedin.com/in/armin-ariamajd'},\n",
       " {'provider': 'generic',\n",
       "  'url': 'https://researchgate.net/profile/Armin_Ariamajd'},\n",
       " {'provider': 'generic', 'url': 'https://orcid.org/0000-0003-1563-6987'}]"
      ]
     },
     "execution_count": 20,
     "metadata": {},
     "output_type": "execute_result"
    }
   ],
   "source": [
    "requests.get(\"https://api.github.com/users/aariam/social_accounts\").json()"
   ]
  },
  {
   "cell_type": "code",
   "execution_count": 14,
   "id": "48b038f8-8cec-4e68-9c71-6b9ad3ab1b95",
   "metadata": {},
   "outputs": [],
   "source": [
    "from pathlib import Path"
   ]
  },
  {
   "cell_type": "code",
   "execution_count": 17,
   "id": "e1726b6d-e017-47b5-8d29-2135e4fbfb52",
   "metadata": {},
   "outputs": [
    {
     "data": {
      "text/plain": [
       "'project'"
      ]
     },
     "execution_count": 17,
     "metadata": {},
     "output_type": "execute_result"
    }
   ],
   "source": [
    "list(Path(\"/Volumes/T7/Projects/GitHub Repos/TemplateRepo/dev/metadata\").glob(\"*.yaml\"))[0].stem"
   ]
  },
  {
   "cell_type": "code",
   "execution_count": 31,
   "id": "d3b201b6-f90f-45c5-b436-4785896112e1",
   "metadata": {},
   "outputs": [],
   "source": [
    "import re\n",
    "\n",
    "url_pattern = re.compile(r'(?:https?://)?(?:www\\.)?orcid\\.org/[\\w\\-]+')\n"
   ]
  },
  {
   "cell_type": "code",
   "execution_count": 33,
   "id": "d30c76ae-ab7a-4ad7-8e9d-bb3cbc88d038",
   "metadata": {},
   "outputs": [
    {
     "name": "stdout",
     "output_type": "stream",
     "text": [
      "match\n",
      "Match found: https://www.orcid.org/profile\n",
      "match\n",
      "Match found: http://orcid.org/1234-5678\n",
      "Match found: https://doi/http://orcid.org/1234-5678\n",
      "match\n",
      "Match found: www.orcid.org/publications\n",
      "match\n",
      "Match found: orcid.org/research\n",
      "No match: https://example.com\n",
      "No match: http://www.example.com\n"
     ]
    }
   ],
   "source": [
    "urls = [\n",
    "    'https://www.orcid.org/profile',\n",
    "    'http://orcid.org/1234-5678',\n",
    "    'https://doi/http://orcid.org/1234-5678',\n",
    "    'www.orcid.org/publications',\n",
    "    'orcid.org/research',\n",
    "    'https://example.com',\n",
    "    'http://www.example.com',\n",
    "]\n",
    "\n",
    "for url in urls:\n",
    "    if url_pattern.fullmatch(url):\n",
    "        print(\"match\")\n",
    "    if url_pattern.search(url):\n",
    "        print(f\"Match found: {url}\")\n",
    "    else:\n",
    "        print(f\"No match: {url}\")\n"
   ]
  },
  {
   "cell_type": "code",
   "execution_count": 48,
   "id": "eee1cfd8-50c0-409c-8490-78c332e1d96a",
   "metadata": {},
   "outputs": [
    {
     "name": "stdout",
     "output_type": "stream",
     "text": [
      "Match found: https://orcid.org/profile\n",
      "Match found: https://orcid.org/1234-5678\n",
      "Match found: https://orcid.org/publications\n",
      "Match found: https://orcid.org/research\n"
     ]
    }
   ],
   "source": [
    "import re\n",
    "\n",
    "pattern = '(?:https?://)?(?:www\\.)?({}/[\\w\\-]+)'\n",
    "\n",
    "url_pattern = re.compile(pattern.format(\"orcid\\.org\"))\n",
    "\n",
    "urls = [\n",
    "    'https://www.orcid.org/profile',\n",
    "    'http://orcid.org/1234-5678',\n",
    "    'www.orcid.org/publications',\n",
    "    'orcid.org/research',\n",
    "    'https://example.com',\n",
    "    'http://www.example.com',\n",
    "]\n",
    "\n",
    "for url in urls:\n",
    "    match = url_pattern.fullmatch(url)\n",
    "    if match:\n",
    "        normalized_url = f\"https://{match.group(1)}\"\n",
    "        print(f\"Match found: {normalized_url}\")\n",
    "   "
   ]
  },
  {
   "cell_type": "code",
   "execution_count": 54,
   "id": "5c1d1be0-6532-4c04-a464-0f15a781d096",
   "metadata": {},
   "outputs": [],
   "source": [
    "d={1:2}"
   ]
  },
  {
   "cell_type": "code",
   "execution_count": 61,
   "id": "9a18223c-8496-4fdf-9807-fedd9c9c0793",
   "metadata": {},
   "outputs": [
    {
     "data": {
      "text/plain": [
       "4"
      ]
     },
     "execution_count": 61,
     "metadata": {},
     "output_type": "execute_result"
    }
   ],
   "source": [
    "d.setdefault(2, 4)"
   ]
  },
  {
   "cell_type": "code",
   "execution_count": 62,
   "id": "618a5be3-d5f1-4496-914f-f2f1d2ff1647",
   "metadata": {},
   "outputs": [
    {
     "data": {
      "text/plain": [
       "{1: 2, 2: 4}"
      ]
     },
     "execution_count": 62,
     "metadata": {},
     "output_type": "execute_result"
    }
   ],
   "source": [
    "d"
   ]
  },
  {
   "cell_type": "code",
   "execution_count": null,
   "id": "9cb216d9-a90d-4432-a5d6-6d88817f2b7d",
   "metadata": {},
   "outputs": [],
   "source": []
  }
 ],
 "metadata": {
  "kernelspec": {
   "display_name": "Python 3 (ipykernel)",
   "language": "python",
   "name": "python3"
  },
  "language_info": {
   "codemirror_mode": {
    "name": "ipython",
    "version": 3
   },
   "file_extension": ".py",
   "mimetype": "text/x-python",
   "name": "python",
   "nbconvert_exporter": "python",
   "pygments_lexer": "ipython3",
   "version": "3.11.3"
  }
 },
 "nbformat": 4,
 "nbformat_minor": 5
}
