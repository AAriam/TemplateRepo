{
 "cells": [
  {
   "cell_type": "code",
   "execution_count": null,
   "id": "374c21ce-0605-4476-b665-91d0d973c0d1",
   "metadata": {},
   "outputs": [],
   "source": [
    "import importlib.util\n",
    "import sys\n",
    "name = \"metadata\"\n",
    "spec = importlib.util.spec_from_file_location(name, \"metadata/variables/__init__.py\")\n",
    "module = importlib.util.module_from_spec(spec)\n",
    "sys.modules[name] = module\n",
    "spec.loader.exec_module(module)\n",
    "metadata = module\n",
    "print(metadata.project)"
   ]
  },
  {
   "cell_type": "code",
   "execution_count": null,
   "id": "efa397e4-9059-47cc-bd03-194b033ed3d2",
   "metadata": {},
   "outputs": [],
   "source": [
    "metadata"
   ]
  },
  {
   "cell_type": "code",
   "execution_count": null,
   "id": "dc8526a2-04c2-4999-9bfe-10850fe93107",
   "metadata": {},
   "outputs": [],
   "source": [
    "metadata.__dir__()"
   ]
  },
  {
   "cell_type": "code",
   "execution_count": null,
   "id": "acc84e8c-2207-498b-998f-8b32ab2d4b8b",
   "metadata": {},
   "outputs": [],
   "source": [
    "dic = dict()\n",
    "for name in metadata.__dir__():\n",
    "    if not name.startswith(\"_\"):\n",
    "        dic[name] = dict()\n",
    "        module = getattr(metadata, name)\n",
    "        for var_name in module.__dir__():\n",
    "            if not var_name.startswith(\"_\") and var_name.isupper():\n",
    "                dic[name][var_name] = getattr(module, var_name)\n",
    "import json\n",
    "json.dumps(dic)"
   ]
  },
  {
   "cell_type": "code",
   "execution_count": null,
   "id": "73f37201-7134-4b6e-88ec-38a15393f495",
   "metadata": {},
   "outputs": [],
   "source": [
    "\"AB_FA\".isupper()"
   ]
  },
  {
   "cell_type": "code",
   "execution_count": null,
   "id": "3a2630f8-0846-4f13-b994-758863702b54",
   "metadata": {},
   "outputs": [],
   "source": [
    "getattr(metadata, \"project\")"
   ]
  },
  {
   "cell_type": "code",
   "execution_count": null,
   "id": "a65426fa-1610-493c-995a-af264c441b95",
   "metadata": {},
   "outputs": [],
   "source": [
    "import json"
   ]
  },
  {
   "cell_type": "code",
   "execution_count": null,
   "id": "f5bad2cb-2b7b-4e37-87ac-9e0c7ec7c462",
   "metadata": {},
   "outputs": [],
   "source": [
    "__file__"
   ]
  },
  {
   "cell_type": "code",
   "execution_count": null,
   "id": "58dd7a78-53e2-49fa-a665-9d87ef086ebf",
   "metadata": {},
   "outputs": [],
   "source": [
    "from pathlib import Path"
   ]
  },
  {
   "cell_type": "code",
   "execution_count": null,
   "id": "f044508c-435b-4b9c-8ab9-72bbba0158bb",
   "metadata": {},
   "outputs": [],
   "source": [
    "Path.cwd()"
   ]
  },
  {
   "cell_type": "code",
   "execution_count": null,
   "id": "af5e06f0-e034-482b-a4f4-876f82a7b2ca",
   "metadata": {},
   "outputs": [],
   "source": [
    "import yaml"
   ]
  },
  {
   "cell_type": "code",
   "execution_count": null,
   "id": "decbd589-956b-43b1-896c-b48f7ba3f7ab",
   "metadata": {},
   "outputs": [],
   "source": [
    "with open(\".github/ISSUE_TEMPLATE/1_problem_app.yaml\") as f:\n",
    "    ff = f.read()\n",
    "print(ff)"
   ]
  },
  {
   "cell_type": "code",
   "execution_count": null,
   "id": "aeba240e-102a-4db3-b70c-8684e9ec6919",
   "metadata": {},
   "outputs": [],
   "source": [
    "print(yaml.dump(yaml.load(ff, Loader=yaml.CFullLoader)))"
   ]
  },
  {
   "cell_type": "code",
   "execution_count": null,
   "id": "8523614d-67db-4f1f-b391-7c82f63b5efe",
   "metadata": {},
   "outputs": [],
   "source": [
    "from ruamel.yaml import YAML"
   ]
  },
  {
   "cell_type": "code",
   "execution_count": null,
   "id": "01bb32a9-9504-43a4-a516-da4fb48514a7",
   "metadata": {
    "editable": true,
    "slideshow": {
     "slide_type": ""
    },
    "tags": []
   },
   "outputs": [],
   "source": [
    "yaml=YAML()   # default, if not specfied, is 'rt' (round-trip)\n",
    "yaml.default_flow_style = True\n",
    "x=yaml.load(ff)"
   ]
  },
  {
   "cell_type": "code",
   "execution_count": null,
   "id": "02503db8-5cb3-404d-8218-6abcb835544d",
   "metadata": {},
   "outputs": [],
   "source": [
    "x['body'][0]"
   ]
  },
  {
   "cell_type": "code",
   "execution_count": null,
   "id": "963d39fe-9749-4f7c-a2c1-dcb491557d11",
   "metadata": {},
   "outputs": [],
   "source": [
    "import sys\n",
    "yaml.dump(x, sys.stdout)"
   ]
  },
  {
   "cell_type": "code",
   "execution_count": null,
   "id": "9e5d9c7e-f018-4ae3-bcb5-c65f40330631",
   "metadata": {},
   "outputs": [],
   "source": [
    "from github import Github\n",
    "\n",
    "# Authentication is defined via github.Auth\n",
    "from github import Auth\n",
    "\n",
    "# using an access token\n",
    "auth = Auth.Token(\"access_token\")\n",
    "\n",
    "# Public Web Github\n",
    "g = Github()\n"
   ]
  },
  {
   "cell_type": "code",
   "execution_count": null,
   "id": "0fcabcb3-467b-4988-a181-14c41426bfd3",
   "metadata": {},
   "outputs": [],
   "source": [
    "u=g.get_user(\"ArminAriam\").avatar_url"
   ]
  },
  {
   "cell_type": "code",
   "execution_count": null,
   "id": "16acef5a-5993-4c6b-9664-852a00bc67c7",
   "metadata": {},
   "outputs": [],
   "source": [
    "u.avatar_url"
   ]
  },
  {
   "cell_type": "code",
   "execution_count": null,
   "id": "1f66eda7-96fd-44f5-b80b-15b88605cad7",
   "metadata": {},
   "outputs": [],
   "source": [
    "from IPython.display import HTML, display\n",
    "display(HTML(f\"<img src={g.get_user('mamdasn').avatar_url} width='150px'>\"))\n"
   ]
  },
  {
   "cell_type": "code",
   "execution_count": null,
   "id": "0e2d2a53-a7bb-42af-87ad-471f3219d10c",
   "metadata": {},
   "outputs": [],
   "source": [
    "g.get_user(\"ArminAriam\")."
   ]
  },
  {
   "cell_type": "code",
   "execution_count": 1,
   "id": "5c705f7d-abec-4f19-ba99-3e573ae0e288",
   "metadata": {},
   "outputs": [],
   "source": [
    "import requests"
   ]
  },
  {
   "cell_type": "code",
   "execution_count": 4,
   "id": "b3910309-5b44-4a1d-93cc-06b5d6632c17",
   "metadata": {},
   "outputs": [
    {
     "data": {
      "text/plain": [
       "'main'"
      ]
     },
     "execution_count": 4,
     "metadata": {},
     "output_type": "execute_result"
    }
   ],
   "source": []
  },
  {
   "cell_type": "code",
   "execution_count": null,
   "id": "48b038f8-8cec-4e68-9c71-6b9ad3ab1b95",
   "metadata": {},
   "outputs": [],
   "source": []
  }
 ],
 "metadata": {
  "kernelspec": {
   "display_name": "Python 3 (ipykernel)",
   "language": "python",
   "name": "python3"
  },
  "language_info": {
   "codemirror_mode": {
    "name": "ipython",
    "version": 3
   },
   "file_extension": ".py",
   "mimetype": "text/x-python",
   "name": "python",
   "nbconvert_exporter": "python",
   "pygments_lexer": "ipython3",
   "version": "3.11.3"
  }
 },
 "nbformat": 4,
 "nbformat_minor": 5
}
